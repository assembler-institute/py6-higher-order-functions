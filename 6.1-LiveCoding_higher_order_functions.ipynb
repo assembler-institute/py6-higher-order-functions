{
 "cells": [
  {
   "cell_type": "markdown",
   "id": "95b95509",
   "metadata": {},
   "source": [
    "# Webinar: Higher–Order Functions\n",
    "\n",
    "# Map, filter and reduce functions\n",
    "\n",
    "by [Luciano Gabbanelli](https://www.linkedin.com/in/luciano-gabbanelli-ph-d-75302218)"
   ]
  },
  {
   "cell_type": "markdown",
   "id": "2f61ede9",
   "metadata": {},
   "source": [
    "<img width=80 src=\"https://media.giphy.com/media/KAq5w47R9rmTuvWOWa/giphy.gif\">\n",
    "\n",
    "<img width=150 src=\"Images/Assembler.png\">\n",
    "\n",
    "***"
   ]
  },
  {
   "cell_type": "markdown",
   "id": "809c9b61",
   "metadata": {},
   "source": [
    "A function is called a **higher–order function** if it contains other functions as parameters, or returns a function as output. In other words, they are functions that work with other functions, providing similar building blocks for expressing complex concepts by combining simpler functions into new functions.\n",
    "\n",
    "\n",
    "**Properties:**\n",
    "- A function is an instance of the Object type.\n",
    "- You can store the function in a variable.\n",
    "- You can pass the function as a parameter to another function.\n",
    "- You can return the function from a function.\n",
    "- You can store them in data structures such as hash tables, lists, …\n",
    "\n",
    "Functions are **first–class** in a certain programming language if they can be passed around and manipulated similarly to how you would pass around and manipulate other kinds of objects (like integers or strings). This is, treat them the same as non-function values.\n",
    "\n",
    "Therefore, the point is not that individual functions can be first class or not, but rather that whole languages may treat functions as first-class objects, or may not. This is, treat them the same as non-function values."
   ]
  },
  {
   "cell_type": "markdown",
   "id": "53d784af",
   "metadata": {},
   "source": [
    "## Map, filter and reduce\n",
    "\n",
    "It is common the think of `map()`, `filter()`, and `reduce()` as the most basic building blocks of higher-order functions, and most functional programming languages use these functions as their primitives (occasionally under other names).\n",
    "\n",
    "These are three predefined built-in functions which facilitate a functional approach to programming (this approach is a programming paradigm that uses functions to define computation; these are commands that affect the value of a variable, and thus the state of the computation after they are executed)."
   ]
  },
  {
   "cell_type": "markdown",
   "id": "97efae1a",
   "metadata": {},
   "source": [
    "### The `map()` function"
   ]
  },
  {
   "cell_type": "markdown",
   "id": "2a1700ff",
   "metadata": {},
   "source": [
    "The `map()` function applies a specific function to each element in an iterable. The element is sent to the function as a parameter.\n",
    "\n",
    "> **Sintaxis:** `map(tranformation, list_of_inputs)`\n",
    ">\n",
    "> `transformation`: the function to execute for each item (required)\n",
    ">\n",
    "> `list_of_inputs`: sequence, collection or an iterator object. You can send as many iterables as you like, just make sure the function has one parameter for each iterable (required)\n",
    "\n",
    "\n",
    "*Most of the times we use lambdas with map()*"
   ]
  },
  {
   "cell_type": "markdown",
   "id": "bdb0e225",
   "metadata": {},
   "source": [
    "**Task:** Map a tuple of words to a tuple with their lengths (number of characters)."
   ]
  },
  {
   "cell_type": "code",
   "execution_count": null,
   "id": "74e9a9ef",
   "metadata": {},
   "outputs": [],
   "source": [
    "# Type the code here:\n",
    "\n"
   ]
  },
  {
   "cell_type": "markdown",
   "id": "e1e36f81",
   "metadata": {},
   "source": [
    "**Besides,** if you do not want to define a function *per se*, you can use a lambda function:"
   ]
  },
  {
   "cell_type": "code",
   "execution_count": null,
   "id": "0b620e02",
   "metadata": {},
   "outputs": [],
   "source": [
    "# Type the code here:\n",
    "\n"
   ]
  },
  {
   "cell_type": "markdown",
   "id": "afcfcce2",
   "metadata": {},
   "source": [
    "**Weird task:** Instead of a list of inputs we can have a list of functions."
   ]
  },
  {
   "cell_type": "code",
   "execution_count": null,
   "id": "b7e513d4",
   "metadata": {},
   "outputs": [],
   "source": [
    "# Type the code here:\n",
    "\n"
   ]
  },
  {
   "cell_type": "markdown",
   "id": "7331731c",
   "metadata": {},
   "source": [
    "### The `filter()` function\n",
    "\n",
    "The `filter()` function creates an iterator with the elements for which a function returns true.\n",
    "\n",
    "> **Sintaxis:** `filter(function_to_apply, iterable(s))`\n",
    ">\n",
    "> `function_to_apply`: a Function to be run for each item in the iterable. This function must return a boolean (required)\n",
    ">\n",
    "> `iterable(s)`: iterable to be filtered (required)\n",
    "\n",
    "*The filter resembles a for loop but it is a built-in function and it is faster.*"
   ]
  },
  {
   "cell_type": "markdown",
   "id": "bfd955b8",
   "metadata": {},
   "source": [
    "**Task:** Define a filter function to keep fruits that start with the letter 'A'"
   ]
  },
  {
   "cell_type": "code",
   "execution_count": null,
   "id": "0146f435",
   "metadata": {},
   "outputs": [],
   "source": [
    "fruits = [\"Apple\", \"Banana\", \"Pear\", \"Apricot\", \"Orange\"]"
   ]
  },
  {
   "cell_type": "markdown",
   "id": "6f209f75",
   "metadata": {},
   "source": [
    "Remember that the function must return `True` or `Fale`"
   ]
  },
  {
   "cell_type": "code",
   "execution_count": null,
   "id": "15efbb4b",
   "metadata": {},
   "outputs": [],
   "source": [
    "# Without using lambdas\n",
    "# Type the code here:\n",
    "\n"
   ]
  },
  {
   "cell_type": "markdown",
   "id": "f83a26bb",
   "metadata": {},
   "source": [
    "🔥🔥 **OR YOU CAN USE LAMBDA FUNCTIONS** 🔥🔥"
   ]
  },
  {
   "cell_type": "code",
   "execution_count": null,
   "id": "472c10b8",
   "metadata": {},
   "outputs": [],
   "source": [
    "# Type the code here:\n",
    "\n"
   ]
  },
  {
   "cell_type": "markdown",
   "id": "7e353500",
   "metadata": {},
   "source": [
    "It is not mandatory for the output to be transform to a list.\n",
    "\n",
    "**Task:** Access the elements of the iterator returned by the `filter()` function:"
   ]
  },
  {
   "cell_type": "code",
   "execution_count": null,
   "id": "fb109ab1",
   "metadata": {},
   "outputs": [],
   "source": [
    "# Type the code here:\n",
    "\n"
   ]
  },
  {
   "cell_type": "markdown",
   "id": "7164b399",
   "metadata": {},
   "source": [
    "**Another weird task:** Pass a `None` to the filter function.\n",
    "\n",
    "When `None` is used as the first argument to the `filter()` function, all elements that are truthy values (gives `True` if converted to boolean) are extracted."
   ]
  },
  {
   "cell_type": "code",
   "execution_count": null,
   "id": "1e7cca29",
   "metadata": {},
   "outputs": [],
   "source": [
    "# Type the code here:\n",
    "\n"
   ]
  },
  {
   "cell_type": "markdown",
   "id": "e94623d9",
   "metadata": {},
   "source": [
    "As you can see, an empty iterable (such as a list, []) is considered \"falsy\", and a non-empty iterable (for example, [1]) is considered \"truthy\".\n",
    "\n",
    "Here some documentation: [Truth Value Testing](https://docs.python.org/3/library/stdtypes.html#truth-value-testing)\n",
    "\n",
    "You can find most of the built-in objects considered `True`/`False`."
   ]
  },
  {
   "cell_type": "markdown",
   "id": "5a5a761a",
   "metadata": {},
   "source": [
    "### The `functools.reduce()` function"
   ]
  },
  {
   "cell_type": "markdown",
   "id": "ab0c9c0f",
   "metadata": {},
   "source": [
    "The `reduce()` is useful for performing some computation on a list and returning a result (usually a single value). This is called a **rolling–computation**; compute the required value by going through all of the data starting from the first value, where each new result depends on the last computed result of the previous data.\n",
    "\n",
    "In Python 3, this function, unlike `map()` or `reduce()`, is no longer a built-in function and must be called from the `functools` module.\n",
    "\n",
    "> **Syntax:**\n",
    "> \n",
    "> `from functools import reduce`\n",
    ">\n",
    "> `reduce(function, iterable)`\n",
    ">\n",
    "> `functools`: module which must be *imported* before the function is called\n",
    ">\n",
    "> `function`: a valid, pre-defined function. This is a lambda function in most cases.\n",
    ">\n",
    "> `iterable`: an iterable object (e.g. list, tuple, dictionary, etc.).\n",
    "\n",
    "The `reduce()` function computation is similar to a `for`–loop in Python, but being an in–built function, it’s much better and faster.\n",
    "\n",
    "It returns a single value gained as a result of applying the function to the iterable’s element."
   ]
  },
  {
   "cell_type": "markdown",
   "id": "40390539",
   "metadata": {},
   "source": [
    "**Task:** Sum all elements of a list (perform the same task as the `sum()` function)."
   ]
  },
  {
   "cell_type": "code",
   "execution_count": null,
   "id": "1cfb2913",
   "metadata": {},
   "outputs": [],
   "source": [
    "# Type the code here:\n",
    "\n"
   ]
  },
  {
   "cell_type": "markdown",
   "id": "713c04f4",
   "metadata": {},
   "source": [
    "<p style=\"text-align: center;\"><font size=3> <b>Control Flow</b></font></p>\n",
    "\n",
    "<img src=\"Images/57493Untitled2.png\">"
   ]
  },
  {
   "cell_type": "markdown",
   "id": "1773f816",
   "metadata": {},
   "source": [
    "Equivalently, using a lambda function:"
   ]
  },
  {
   "cell_type": "code",
   "execution_count": null,
   "id": "5281d393",
   "metadata": {},
   "outputs": [],
   "source": [
    "# Type the code here:\n",
    "\n"
   ]
  },
  {
   "cell_type": "markdown",
   "id": "728bf6fc",
   "metadata": {},
   "source": [
    "#### The Optional Argument: initializer\n",
    "\n",
    "The third argument to Python’s `reduce()`, called `initializer`, is optional. If you supply a value to `initializer`, then `reduce()` will feed it to the first call of function as its first argument.\n",
    "\n",
    "This means that the first call to function will use the value of `initializer` and the first item of `iterable` to perform its first partial computation. After this, `reduce()` continues working with the subsequent items of `iterable`.\n",
    "\n",
    "If you’re planning to use `reduce()` to process iterables that may potentially be empty, then it’s good practice to provide a value to `initializer`. Python’s `reduce()` will use this value as its default return value when iterable is empty. If you don’t provide an initializer value, then `reduce()` will raise a `TypeError`."
   ]
  },
  {
   "cell_type": "code",
   "execution_count": null,
   "id": "9733cc18",
   "metadata": {},
   "outputs": [],
   "source": [
    "# Type some code here:\n",
    "\n"
   ]
  }
 ],
 "metadata": {
  "kernelspec": {
   "display_name": "Python 3 (ipykernel)",
   "language": "python",
   "name": "python3"
  },
  "language_info": {
   "codemirror_mode": {
    "name": "ipython",
    "version": 3
   },
   "file_extension": ".py",
   "mimetype": "text/x-python",
   "name": "python",
   "nbconvert_exporter": "python",
   "pygments_lexer": "ipython3",
   "version": "3.9.12"
  },
  "toc": {
   "base_numbering": 1,
   "nav_menu": {},
   "number_sections": true,
   "sideBar": true,
   "skip_h1_title": true,
   "title_cell": "Table of Contents",
   "title_sidebar": "Contents",
   "toc_cell": false,
   "toc_position": {
    "height": "789px",
    "left": "805px",
    "top": "154.125px",
    "width": "255.594px"
   },
   "toc_section_display": true,
   "toc_window_display": true
  }
 },
 "nbformat": 4,
 "nbformat_minor": 5
}
