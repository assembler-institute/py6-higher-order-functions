{
 "cells": [
  {
   "cell_type": "markdown",
   "id": "5bc8653a",
   "metadata": {},
   "source": [
    "# Higher–Order Functions Task Sheet\n",
    "\n",
    "# Map, filter and reduce functions (solutions)"
   ]
  },
  {
   "cell_type": "markdown",
   "id": "096a1f84",
   "metadata": {},
   "source": [
    "<img width=80 src=\"https://media.giphy.com/media/KAq5w47R9rmTuvWOWa/giphy.gif\">\n",
    "\n",
    "<img width=150 src=\"Images/Assembler.png\">"
   ]
  },
  {
   "cell_type": "markdown",
   "id": "4ffc34e1",
   "metadata": {},
   "source": [
    "# Important:\n",
    "\n",
    "- Comment your code explaining what each part does when you consider it.\n",
    "- We are asking about two types of problems. The first type are solved with code cells, and the second with markdown type cells (where the solution must be thought without executing code cells). This will be indicated in each problem.\n",
    "- Please always respect the instructions. If you are asked to use higher order functions, use at least as many as requested."
   ]
  },
  {
   "cell_type": "markdown",
   "id": "66d84f30",
   "metadata": {},
   "source": [
    "# Recommendations:\n",
    "\n",
    "- There are as many ways to solve a problem as there are people in the world. Find yours!\n",
    "- Create as many variables as you want. They cost nothing and are worth it for the sake of clarity.\n",
    "- You can add cells if needed. \n",
    "- Remember that there are two types of cells: code and markdown. Use both. Explanations never hurt.\n",
    "- There are several ways to approach the same problem. Try not to repeat your way of thinking.\n",
    "- If different syntaxes lead to the same result, explore them.\n",
    "- Use internet in a smart way. Don't look at how to solve the problem in its entirety; it is better to learn methods that lead your logical reasoning to the solution.\n",
    "- Once you have a plan to address the problem, try breaking your code into manageable chunks.\n",
    "- Use `print()` and `type()` functions in the middle of your code to understand what your code is actually doing."
   ]
  },
  {
   "cell_type": "markdown",
   "id": "9e2e1a98",
   "metadata": {},
   "source": [
    "***"
   ]
  },
  {
   "cell_type": "markdown",
   "id": "723fcaf7",
   "metadata": {},
   "source": [
    "## Square all elements of a list\n",
    "\n",
    "Use the map function to square all elements of a list."
   ]
  },
  {
   "cell_type": "code",
   "execution_count": 1,
   "id": "4640875a",
   "metadata": {},
   "outputs": [
    {
     "data": {
      "text/plain": [
       "[1, 4, 9, 16, 25, 36]"
      ]
     },
     "execution_count": 1,
     "metadata": {},
     "output_type": "execute_result"
    }
   ],
   "source": [
    "# Type the code here:\n",
    "items = [1,2,3,4,5,6]\n",
    "squared = list(map(lambda x: x**2, items))\n",
    "squared"
   ]
  },
  {
   "cell_type": "markdown",
   "id": "53fe63e0",
   "metadata": {},
   "source": [
    "## Keep positive\n",
    "\n",
    "a. Create a list of 10 random integers, either positive or negative. You have done something very similar, remember?\n",
    "\n",
    "b. Define a funciton called `keep_positive(list_of_numbers)` that takes the created list as an argument and through a higher–order function extracts only positive numbers from that list."
   ]
  },
  {
   "cell_type": "code",
   "execution_count": 29,
   "id": "ca844cb5",
   "metadata": {},
   "outputs": [],
   "source": [
    "# Type the code here:\n",
    "import random\n",
    "\n",
    "random_list_of_integers = [random.randint(-25, 25) for _ in range(10)]"
   ]
  },
  {
   "cell_type": "code",
   "execution_count": 30,
   "id": "ac58c874",
   "metadata": {},
   "outputs": [
    {
     "data": {
      "text/plain": [
       "10"
      ]
     },
     "execution_count": 30,
     "metadata": {},
     "output_type": "execute_result"
    }
   ],
   "source": [
    "len(random_list_of_integers)"
   ]
  },
  {
   "cell_type": "code",
   "execution_count": 31,
   "id": "c1cc61e0",
   "metadata": {},
   "outputs": [],
   "source": [
    "# Defined via function\n",
    "def keep_positive(list_of_numbers):\n",
    "    return list(filter(lambda n : n >=0, list_of_numbers))"
   ]
  },
  {
   "cell_type": "code",
   "execution_count": 32,
   "id": "ec921f55",
   "metadata": {},
   "outputs": [
    {
     "data": {
      "text/plain": [
       "[9, 0, 2, 20]"
      ]
     },
     "execution_count": 32,
     "metadata": {},
     "output_type": "execute_result"
    }
   ],
   "source": [
    "keep_positive(random_list_of_integers)"
   ]
  },
  {
   "cell_type": "code",
   "execution_count": 33,
   "id": "ecb0fcab",
   "metadata": {
    "scrolled": true
   },
   "outputs": [
    {
     "data": {
      "text/plain": [
       "[9, 0, 2, 20]"
      ]
     },
     "execution_count": 33,
     "metadata": {},
     "output_type": "execute_result"
    }
   ],
   "source": [
    "# Alternatively, via lambda function\n",
    "keep_positive = list(filter(lambda x: x >= 0, random_list_of_integers))\n",
    "\n",
    "keep_positive"
   ]
  },
  {
   "cell_type": "markdown",
   "id": "4ef8656c",
   "metadata": {},
   "source": [
    "## Good old math\n",
    "\n",
    "Create a function `factorial_func(N)` that works as the factorial factorial of a non–negative integer N. This function must be called with N, contain at least one higher–order function in its statements, and must return the result of applying the factorial to N, i.e. N!.\n",
    "\n",
    "**Hint:** [Factorial (N!)](https://en.wikipedia.org/wiki/Factorial)\n",
    "\n",
    "e.g. 5! = 4 * 3 * 4 * 2 * 1 = 120"
   ]
  },
  {
   "cell_type": "code",
   "execution_count": 2,
   "id": "ddea0e13",
   "metadata": {},
   "outputs": [],
   "source": [
    "# Type the code here:\n",
    "from functools import reduce\n",
    "\n",
    "def factorial_func(N):\n",
    "    product = reduce((lambda x, y: x * y), range(1, N+1))\n",
    "    \n",
    "    return 1 if N < 2 else product"
   ]
  },
  {
   "cell_type": "code",
   "execution_count": 5,
   "id": "ef5cea8e",
   "metadata": {},
   "outputs": [
    {
     "data": {
      "text/plain": [
       "1"
      ]
     },
     "execution_count": 5,
     "metadata": {},
     "output_type": "execute_result"
    }
   ],
   "source": [
    "factorial_func(1)"
   ]
  },
  {
   "cell_type": "markdown",
   "id": "8d76dff9",
   "metadata": {},
   "source": [
    "## Maximum and minimum\n",
    "\n",
    "Define two functions: one for the maximum and one for the minimum. Use one by one as an argument to a higher–order function to get first the maximum and then the minimum of a list.\n",
    "\n",
    "Can you repeat the excercice using lambda functions?"
   ]
  },
  {
   "cell_type": "code",
   "execution_count": 14,
   "id": "f2189560",
   "metadata": {},
   "outputs": [],
   "source": [
    "# Type the code here:\n",
    "\n",
    "# Minimum function\n",
    "def min_func(a, b):\n",
    "    return a if a < b else b\n",
    "\n",
    "# Maximum function\n",
    "def max_func(a, b):\n",
    "    return a if a > b else b\n",
    "\n",
    "numbers = [3, 5, 2, 4, 7, 1, -3, 18, 0]"
   ]
  },
  {
   "cell_type": "code",
   "execution_count": 15,
   "id": "23c913f9",
   "metadata": {},
   "outputs": [
    {
     "data": {
      "text/plain": [
       "-3"
      ]
     },
     "execution_count": 15,
     "metadata": {},
     "output_type": "execute_result"
    }
   ],
   "source": [
    "reduce(min_func, numbers)"
   ]
  },
  {
   "cell_type": "code",
   "execution_count": 16,
   "id": "694aa711",
   "metadata": {},
   "outputs": [
    {
     "data": {
      "text/plain": [
       "18"
      ]
     },
     "execution_count": 16,
     "metadata": {},
     "output_type": "execute_result"
    }
   ],
   "source": [
    "reduce(max_func, numbers)"
   ]
  },
  {
   "cell_type": "code",
   "execution_count": 17,
   "id": "2d253b73",
   "metadata": {},
   "outputs": [
    {
     "data": {
      "text/plain": [
       "-3"
      ]
     },
     "execution_count": 17,
     "metadata": {},
     "output_type": "execute_result"
    }
   ],
   "source": [
    "# Minimum\n",
    "reduce(lambda a, b: a if a < b else b, numbers)"
   ]
  },
  {
   "cell_type": "code",
   "execution_count": 18,
   "id": "aa894126",
   "metadata": {},
   "outputs": [
    {
     "data": {
      "text/plain": [
       "18"
      ]
     },
     "execution_count": 18,
     "metadata": {},
     "output_type": "execute_result"
    }
   ],
   "source": [
    "# Maximum\n",
    "reduce(lambda a, b: a if a > b else b, numbers)"
   ]
  },
  {
   "cell_type": "markdown",
   "id": "cf0dce4c",
   "metadata": {},
   "source": [
    "## Readability counts\n",
    "\n",
    "Construct a function called `sum_even()` that takes an iterable and by means of a higher–order function calculates the sum of all the even numbers in an iterable. The function must work for any iterable.\n",
    "\n",
    "Do you know what is readability? Discuss the title of the excercice! 8)"
   ]
  },
  {
   "cell_type": "code",
   "execution_count": null,
   "id": "6eb36251",
   "metadata": {},
   "outputs": [],
   "source": [
    "# Type the code here:\n",
    "def sum_even(it):\n",
    "    return reduce(lambda x, y: x + y if not y % 2 else x, it, 0)\n",
    "\n",
    "sum_even([1, 2, 3, 4])"
   ]
  },
  {
   "cell_type": "markdown",
   "id": "cd8b6146",
   "metadata": {},
   "source": [
    "## Distances\n",
    "\n",
    "Write a function called `norm(x,y,z)` that, taking 3 coordinates of a point as parameters (x,y,z), returns the distance from that point to zero in Euclidean space. Use higher-order functions inside `norm(x,y,z)`, of course. Two is too much?\n",
    "\n",
    "**Hint:** [How to compute a norm](https://en.wikipedia.org/wiki/Euclidean_distance)\n",
    "\n",
    "- **Mega-weird optional problem:** can you compute the norm in a non-Eucludean space?\n",
    "\n",
    "- **Super-extra-mega weird optional problem:** and in an D-dimensional non-Eucludean space?\n",
    "\n",
    "<img style=\"float: center;\" width=250 src=\"https://media.giphy.com/media/aBTq20klnL4WCppYpB/giphy.gif\">\n",
    "<!---\n",
    "https://media.giphy.com/media/26ufdipQqU2lhNA4g/giphy.gif\n",
    "-->                                           \n"
   ]
  },
  {
   "cell_type": "code",
   "execution_count": 59,
   "id": "e8df7126",
   "metadata": {},
   "outputs": [],
   "source": [
    "# Type the code here:\n",
    "import math \n",
    "\n",
    "def norm(x,y,z):\n",
    "    return math.sqrt(reduce((lambda x, y: x + y), list(map(lambda x: x**2, [x,y,z]))))"
   ]
  },
  {
   "cell_type": "code",
   "execution_count": 66,
   "id": "d2750c83",
   "metadata": {},
   "outputs": [
    {
     "data": {
      "text/plain": [
       "5.0"
      ]
     },
     "execution_count": 66,
     "metadata": {},
     "output_type": "execute_result"
    }
   ],
   "source": [
    "norm(math.sqrt(5),2,4)"
   ]
  },
  {
   "cell_type": "code",
   "execution_count": 67,
   "id": "4a0303f2",
   "metadata": {},
   "outputs": [
    {
     "data": {
      "text/plain": [
       "True"
      ]
     },
     "execution_count": 67,
     "metadata": {},
     "output_type": "execute_result"
    }
   ],
   "source": [
    "norm(1,1,1) == math.sqrt(3)"
   ]
  }
 ],
 "metadata": {
  "kernelspec": {
   "display_name": "Python 3 (ipykernel)",
   "language": "python",
   "name": "python3"
  },
  "language_info": {
   "codemirror_mode": {
    "name": "ipython",
    "version": 3
   },
   "file_extension": ".py",
   "mimetype": "text/x-python",
   "name": "python",
   "nbconvert_exporter": "python",
   "pygments_lexer": "ipython3",
   "version": "3.9.12"
  },
  "toc": {
   "base_numbering": 1,
   "nav_menu": {},
   "number_sections": true,
   "sideBar": true,
   "skip_h1_title": true,
   "title_cell": "Table of Contents",
   "title_sidebar": "Contents",
   "toc_cell": false,
   "toc_position": {
    "height": "calc(100% - 180px)",
    "left": "10px",
    "top": "150px",
    "width": "203.108px"
   },
   "toc_section_display": true,
   "toc_window_display": true
  }
 },
 "nbformat": 4,
 "nbformat_minor": 5
}
